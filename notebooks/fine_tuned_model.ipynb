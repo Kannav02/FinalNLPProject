{
 "cells": [
  {
   "cell_type": "code",
   "execution_count": 3,
   "id": "d3eeb004",
   "metadata": {},
   "outputs": [],
   "source": [
    "from transformers import AutoTokenizer,AutoModelForSequenceClassification, TrainingArguments,Trainer\n",
    "from datasets import load_dataset,DatasetDict\n",
    "import torch\n",
    "\n",
    "\n",
    "device = \"cuda\" if torch.cuda.is_available() else \"cpu\""
   ]
  },
  {
   "cell_type": "code",
   "execution_count": null,
   "id": "bfb3e631",
   "metadata": {},
   "outputs": [],
   "source": [
    "data_path = \"/Users/kannavsethi/Desktop/nlp-final-project/data/AI_Human.csv\"\n",
    "text_column = \"text\"\n",
    "label_column = \"generated\"\n",
    "model_name = \"distilbert-base-uncased\"\n",
    "\n",
    "raw_data = load_dataset(\"csv\", data_files={\"full\": data_path})\n",
    "\n",
    "raw_data = raw_data.rename_column(text_column, \"text\")\n",
    "raw_data = raw_data.rename_column(label_column, \"label\")\n",
    "\n",
    "d0 = raw_data[\"full\"].train_test_split(test_size=0.2, seed=42, stratify_by_column=\"label\")\n",
    "\n",
    "d1 = d0[\"test\"].train_test_split(test_size=0.5, seed=42, stratify_by_column=\"label\")\n",
    "\n",
    "dataset = DatasetDict({\n",
    "    \"train\": d0[\"train\"],       # 80%\n",
    "    \"validation\": d1[\"train\"],  # 10%\n",
    "    \"test\": d1[\"test\"],         # 10%\n",
    "})"
   ]
  },
  {
   "cell_type": "code",
   "execution_count": null,
   "id": "10459380",
   "metadata": {},
   "outputs": [],
   "source": [
    "tokenizer = AutoTokenizer.from_pretrained(\"distilbert-base-uncased\")\n",
    "\n",
    "def tokenize_function(batch):\n",
    "    return tokenizer(batch[\"text\"], padding=True, truncation=True, return_tensors=\"pt\")\n",
    "\n",
    "tokenized_datasets = dataset.map(tokenize_function, batched=True)"
   ]
  },
  {
   "cell_type": "code",
   "execution_count": null,
   "id": "3ef7787b",
   "metadata": {},
   "outputs": [],
   "source": [
    "from evaluation_metrics import compute_metrics_for_trainer\n",
    "\n",
    "model = AutoModelForSequenceClassification.from_pretrained(model_name, num_labels = 2)\n",
    "training_args = TrainingArguments(\n",
    "    output_dir = \"./models\",\n",
    "    eval_strategy=\"epoch\",\n",
    "    learning_rate=2e-5,\n",
    "    per_device_train_batch_size=16,\n",
    "    per_device_eval_batch_size=16,\n",
    "    num_train_epochs=3,\n",
    "    weight_decay=0.01,\n",
    "    load_best_model_at_end=True,\n",
    "    logging_dir=\"./logs\",\n",
    "    logging_steps=10,\n",
    "    save_strategy=\"epoch\"\n",
    ")\n",
    "\n",
    "\n",
    "trainer = Trainer(\n",
    "    model=model,\n",
    "    args=training_args,\n",
    "    train_dataset=tokenized_datasets[\"train\"],\n",
    "    eval_dataset=tokenized_datasets[\"validation\"],\n",
    "    tokenizer=tokenizer,\n",
    "    compute_metrics=compute_metrics_for_trainer\n",
    ")\n",
    "\n",
    "trainer.train()"
   ]
  },
  {
   "cell_type": "code",
   "execution_count": null,
   "id": "c2a044ba",
   "metadata": {},
   "outputs": [],
   "source": [
    "results = trainer.evaluate(tokenized_datasets[\"test\"])\n",
    "print(\"Test Results:\", results)\n",
    "\n",
    "\n",
    "predictions = trainer.predict(tokenized_datasets[\"test\"])\n",
    "y_pred = predictions.predictions.argmax(-1)\n",
    "y_true = predictions.label_ids\n",
    "\n",
    "\n",
    "from evaluation_metrics import evaluate_model\n",
    "print(\"\\nDetailed Test Metrics:\")\n",
    "evaluate_model(y_true, y_pred)"
   ]
  }
 ],
 "metadata": {
  "kernelspec": {
   "display_name": ".venv",
   "language": "python",
   "name": "python3"
  },
  "language_info": {
   "codemirror_mode": {
    "name": "ipython",
    "version": 3
   },
   "file_extension": ".py",
   "mimetype": "text/x-python",
   "name": "python",
   "nbconvert_exporter": "python",
   "pygments_lexer": "ipython3",
   "version": "3.10.16"
  }
 },
 "nbformat": 4,
 "nbformat_minor": 5
}
