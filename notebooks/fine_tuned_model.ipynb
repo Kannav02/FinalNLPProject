{
 "cells": [
  {
   "cell_type": "code",
   "execution_count": null,
   "id": "d3eeb004",
   "metadata": {},
   "outputs": [],
   "source": [
    "from transformers import AutoTokenizer,AutoModelForSequenceClassification\n",
    "from datasets import load_dataset,DatasetDict\n",
    "import torch\n",
    "\n",
    "device = \"cuda\" if torch.cuda.is_available() else \"cpu\""
   ]
  },
  {
   "cell_type": "code",
   "execution_count": null,
   "id": "bfb3e631",
   "metadata": {},
   "outputs": [],
   "source": [
    "data_path = \"/Users/kannavsethi/Desktop/nlp-final-project/data/AI_Human.csv\"\n",
    "text_column = \"text\"\n",
    "label_column = \"generated_text\"\n",
    "\n",
    "raw_data = load_dataset(\"csv\", data_files={\"full\": data_path})\n",
    "\n",
    "d0 = raw_data[\"full\"].train_test_split(test_size=0.2, seed=42, stratify_by_column=label_column)\n",
    "\n",
    "d1 = d0[\"test\"].train_test_split(test_size=0.5, seed=42, stratify_by_column=label_column)\n",
    "\n",
    "dataset = DatasetDict({\n",
    "    \"train\": d0[\"train\"],       # 80%\n",
    "    \"validation\": d1[\"train\"],  # 10%\n",
    "    \"test\": d1[\"test\"],         # 10%\n",
    "})\n",
    "\n"
   ]
  }
 ],
 "metadata": {
  "kernelspec": {
   "display_name": ".venv",
   "language": "python",
   "name": "python3"
  },
  "language_info": {
   "codemirror_mode": {
    "name": "ipython",
    "version": 3
   },
   "file_extension": ".py",
   "mimetype": "text/x-python",
   "name": "python",
   "nbconvert_exporter": "python",
   "pygments_lexer": "ipython3",
   "version": "3.10.16"
  }
 },
 "nbformat": 4,
 "nbformat_minor": 5
}
